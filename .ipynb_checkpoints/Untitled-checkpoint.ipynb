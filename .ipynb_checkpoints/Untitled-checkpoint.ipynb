{
 "cells": [
  {
   "cell_type": "code",
   "execution_count": 1,
   "id": "073deb12",
   "metadata": {},
   "outputs": [
    {
     "name": "stderr",
     "output_type": "stream",
     "text": [
      "2022-12-11 22:11:57.897 INFO    numexpr.utils: NumExpr defaulting to 8 threads.\n"
     ]
    }
   ],
   "source": [
    "import streamlit as st\n",
    "from transformers import pipeline \n",
    "from newspaper import Article"
   ]
  },
  {
   "cell_type": "code",
   "execution_count": 9,
   "id": "98675451",
   "metadata": {},
   "outputs": [],
   "source": [
    "# @st.cache(allow_output_mutation=True)\n",
    "def get_model():\n",
    "    model = pipeline(\"summarization\")\n",
    "    return model"
   ]
  },
  {
   "cell_type": "code",
   "execution_count": 3,
   "id": "bb3a8de5",
   "metadata": {},
   "outputs": [],
   "source": [
    "def scrapArticle(url):\n",
    "    article = Article(url)\n",
    "    try:\n",
    "        article.download()\n",
    "        article.parse()\n",
    "        article.nlp()\n",
    "    except Exception as e:\n",
    "        print(e)\n",
    "    return article.text"
   ]
  },
  {
   "cell_type": "code",
   "execution_count": 11,
   "id": "add3ff7b",
   "metadata": {},
   "outputs": [],
   "source": [
    "def main():\n",
    "    st.title(\"Automatic News Articles Text Summarization\")\n",
    "    link = st.text_input(\"Enter your URL:\")\n",
    "    article = scrapArticle(link)\n",
    "    summary = \"\"\n",
    "    model = get_model();\n",
    "    \n",
    "    if st.button(\"Summarize\"):\n",
    "        summary = model(article)\n",
    "\n",
    "    st.success(summary)"
   ]
  },
  {
   "cell_type": "code",
   "execution_count": 12,
   "id": "8358f883",
   "metadata": {},
   "outputs": [
    {
     "name": "stderr",
     "output_type": "stream",
     "text": [
      "No model was supplied, defaulted to sshleifer/distilbart-cnn-12-6 (https://huggingface.co/sshleifer/distilbart-cnn-12-6)\n"
     ]
    },
    {
     "name": "stdout",
     "output_type": "stream",
     "text": [
      "Article `download()` failed with No connection adapters were found for '://' on URL ://\n"
     ]
    }
   ],
   "source": [
    "if __name__ == \"__main__\":\n",
    "    main()"
   ]
  }
 ],
 "metadata": {
  "kernelspec": {
   "display_name": "Python 3 (ipykernel)",
   "language": "python",
   "name": "python3"
  },
  "language_info": {
   "codemirror_mode": {
    "name": "ipython",
    "version": 3
   },
   "file_extension": ".py",
   "mimetype": "text/x-python",
   "name": "python",
   "nbconvert_exporter": "python",
   "pygments_lexer": "ipython3",
   "version": "3.9.12"
  }
 },
 "nbformat": 4,
 "nbformat_minor": 5
}
