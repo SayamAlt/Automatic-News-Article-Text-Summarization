{
 "cells": [
  {
   "cell_type": "code",
   "execution_count": 5,
   "id": "8e423de2",
   "metadata": {},
   "outputs": [],
   "source": [
    "import streamlit as st\n",
    "from summarizer import TransformerSummarizer\n",
    "from newspaper import Article"
   ]
  },
  {
   "cell_type": "code",
   "execution_count": 3,
   "id": "d5fa9aa3",
   "metadata": {},
   "outputs": [],
   "source": [
    "gpt2_model = TransformerSummarizer(transformer_type=\"GPT2\",transformer_model_key=\"gpt2-medium\")"
   ]
  },
  {
   "cell_type": "code",
   "execution_count": 6,
   "id": "9424cf76",
   "metadata": {},
   "outputs": [],
   "source": [
    "def scrapArticle(url):\n",
    "    article = Article(url)\n",
    "    try:\n",
    "        article.download()\n",
    "        article.parse()\n",
    "        article.nlp()\n",
    "    except Exception as e:\n",
    "        print(e)\n",
    "    return article.text"
   ]
  },
  {
   "cell_type": "code",
   "execution_count": 8,
   "id": "bacf64ef",
   "metadata": {},
   "outputs": [],
   "source": [
    "def main():\n",
    "    st.title(\"Text Summarization\")\n",
    "    htmlScript = \"\"\"\n",
    "        <div style=\"background-color:crimson;padding:10px\">\n",
    "            <h2 style=\"color:white;text-align:center;\">Automatic News Article Text Summarization</h2>\n",
    "        </div>\n",
    "    \"\"\"\n",
    "    st.markdown(htmlScript,unsafe_allow_html=True)\n",
    "    link = st.text_area(\"Enter your URL:\")\n",
    "    article = scrapArticle(link)\n",
    "    summary = \"\"\n",
    "\n",
    "    if st.button(\"Summarize\"):\n",
    "        summary = gpt2_model(article,min_length=60)\n",
    "\n",
    "    st.success(f\"The generated summary is {summary}\")\n",
    "    \n",
    "    if st.button(\"About\"):\n",
    "        st.text(\"Built with Streamlit\")"
   ]
  },
  {
   "cell_type": "code",
   "execution_count": 9,
   "id": "106b7558",
   "metadata": {},
   "outputs": [
    {
     "name": "stdout",
     "output_type": "stream",
     "text": [
      "Article `download()` failed with No connection adapters were found for ':/Type here' on URL :/Type here\n"
     ]
    }
   ],
   "source": [
    "if __name__ == \"__main__\":\n",
    "    main()"
   ]
  }
 ],
 "metadata": {
  "kernelspec": {
   "display_name": "Python 3 (ipykernel)",
   "language": "python",
   "name": "python3"
  },
  "language_info": {
   "codemirror_mode": {
    "name": "ipython",
    "version": 3
   },
   "file_extension": ".py",
   "mimetype": "text/x-python",
   "name": "python",
   "nbconvert_exporter": "python",
   "pygments_lexer": "ipython3",
   "version": "3.9.12"
  }
 },
 "nbformat": 4,
 "nbformat_minor": 5
}
