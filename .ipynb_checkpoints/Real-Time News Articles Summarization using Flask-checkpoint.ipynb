{
 "cells": [
  {
   "cell_type": "code",
   "execution_count": null,
   "id": "ba440932",
   "metadata": {},
   "outputs": [],
   "source": [
    "from flask import Flask, render_template, request\n",
    "from summarizer import TransformerSummarizer\n",
    "import feedparser as fp\n",
    "from newspaper import Article\n",
    "from time import mktime\n",
    "from datetime import datetime\n",
    "import newspaper"
   ]
  },
  {
   "cell_type": "code",
   "execution_count": null,
   "id": "af6a9039",
   "metadata": {},
   "outputs": [],
   "source": [
    "app = Flask(__name__)\n",
    "app"
   ]
  },
  {
   "cell_type": "code",
   "execution_count": null,
   "id": "214602bd",
   "metadata": {},
   "outputs": [],
   "source": [
    "gpt2_model = TransformerSummarizer(transformer_type=\"GPT2\",transformer_model_key=\"gpt2-medium\")"
   ]
  },
  {
   "cell_type": "code",
   "execution_count": null,
   "id": "c2bdad16",
   "metadata": {},
   "outputs": [],
   "source": [
    "@app.route(\"/\")\n",
    "def home():\n",
    "    return render_template('index.html')"
   ]
  },
  {
   "cell_type": "code",
   "execution_count": null,
   "id": "f9e30444",
   "metadata": {},
   "outputs": [],
   "source": [
    "def scrapArticles(link):\n",
    "    article = Article(link)\n",
    "    try:\n",
    "        article.download()\n",
    "        article.parse()\n",
    "        article.nlp()\n",
    "    except Exception as e:\n",
    "        print(e)\n",
    "    return article.text"
   ]
  },
  {
   "cell_type": "code",
   "execution_count": null,
   "id": "6744bce9",
   "metadata": {},
   "outputs": [],
   "source": [
    "@app.route(\"/summarize\", methods=['GET','POST'])\n",
    "def summarize():\n",
    "    if request.method == 'POST':\n",
    "        link = request.form['url']\n",
    "        print(link)\n",
    "        article = scrapArticles(link)\n",
    "        print(article)\n",
    "        gpt2_summary = gpt2_model(article,min_length=60)\n",
    "        print(gpt2_summary)\n",
    "        return render_template('index.html',text=article,summary=gpt2_summary)\n",
    "    else:\n",
    "        return render_template('index.html',text=article,summary=gpt2_summary)"
   ]
  },
  {
   "cell_type": "code",
   "execution_count": null,
   "id": "20644704",
   "metadata": {},
   "outputs": [],
   "source": [
    "if __name__ == \"__main__\":\n",
    "    app.run(port=8080)"
   ]
  }
 ],
 "metadata": {
  "kernelspec": {
   "display_name": "Python 3 (ipykernel)",
   "language": "python",
   "name": "python3"
  },
  "language_info": {
   "codemirror_mode": {
    "name": "ipython",
    "version": 3
   },
   "file_extension": ".py",
   "mimetype": "text/x-python",
   "name": "python",
   "nbconvert_exporter": "python",
   "pygments_lexer": "ipython3",
   "version": "3.9.12"
  }
 },
 "nbformat": 4,
 "nbformat_minor": 5
}
