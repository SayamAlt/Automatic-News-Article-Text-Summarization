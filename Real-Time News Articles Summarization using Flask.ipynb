{
 "cells": [
  {
   "cell_type": "code",
   "execution_count": 1,
   "id": "ba440932",
   "metadata": {},
   "outputs": [],
   "source": [
    "from flask import Flask, render_template, request\n",
    "from summarizer import TransformerSummarizer\n",
    "import feedparser as fp\n",
    "from newspaper import Article\n",
    "from time import mktime\n",
    "from datetime import datetime\n",
    "import newspaper"
   ]
  },
  {
   "cell_type": "code",
   "execution_count": 2,
   "id": "af6a9039",
   "metadata": {},
   "outputs": [
    {
     "data": {
      "text/plain": [
       "<Flask '__main__'>"
      ]
     },
     "execution_count": 2,
     "metadata": {},
     "output_type": "execute_result"
    }
   ],
   "source": [
    "app = Flask(__name__)\n",
    "app"
   ]
  },
  {
   "cell_type": "code",
   "execution_count": 3,
   "id": "be38e7c8",
   "metadata": {},
   "outputs": [],
   "source": [
    "gpt2_model = TransformerSummarizer(transformer_type=\"GPT2\",transformer_model_key=\"gpt2-medium\")"
   ]
  },
  {
   "cell_type": "code",
   "execution_count": 4,
   "id": "c2bdad16",
   "metadata": {},
   "outputs": [],
   "source": [
    "@app.route(\"/\")\n",
    "def home():\n",
    "    return render_template('index.html',text_len=0,summary_len=0)"
   ]
  },
  {
   "cell_type": "code",
   "execution_count": 5,
   "id": "f9e30444",
   "metadata": {},
   "outputs": [],
   "source": [
    "def scrapArticles(link):\n",
    "    article = Article(link)\n",
    "    try:\n",
    "        article.download()\n",
    "        article.parse()\n",
    "        article.nlp()\n",
    "    except Exception as e:\n",
    "        print(e)\n",
    "    return article.text"
   ]
  },
  {
   "cell_type": "code",
   "execution_count": 6,
   "id": "6744bce9",
   "metadata": {},
   "outputs": [],
   "source": [
    "@app.route(\"/summarize\", methods=['GET','POST'])\n",
    "def summarize():\n",
    "    if request.method == 'POST':\n",
    "        link = request.form['url']\n",
    "        article = scrapArticles(link)\n",
    "        article_len = len(article)\n",
    "        gpt2_summary = gpt2_model(article,min_length=60)\n",
    "        res_len = len(gpt2_summary)\n",
    "        return render_template('index.html',text=article,summary=gpt2_summary,text_len=article_len,summary_len=res_len)"
   ]
  },
  {
   "cell_type": "code",
   "execution_count": null,
   "id": "20644704",
   "metadata": {},
   "outputs": [
    {
     "name": "stdout",
     "output_type": "stream",
     "text": [
      " * Serving Flask app '__main__'\n",
      " * Debug mode: off\n"
     ]
    },
    {
     "name": "stderr",
     "output_type": "stream",
     "text": [
      "WARNING: This is a development server. Do not use it in a production deployment. Use a production WSGI server instead.\n",
      " * Running on http://127.0.0.1:8080\n",
      "Press CTRL+C to quit\n",
      "127.0.0.1 - - [08/Dec/2022 20:09:26] \"GET / HTTP/1.1\" 200 -\n",
      "127.0.0.1 - - [08/Dec/2022 20:09:26] \"GET /favicon.ico HTTP/1.1\" 404 -\n",
      "C:\\Users\\hp\\anaconda3\\lib\\site-packages\\sklearn\\cluster\\_kmeans.py:1334: UserWarning: KMeans is known to have a memory leak on Windows with MKL, when there are less chunks than available threads. You can avoid it by setting the environment variable OMP_NUM_THREADS=1.\n",
      "  warnings.warn(\n",
      "127.0.0.1 - - [08/Dec/2022 20:10:19] \"POST /summarize HTTP/1.1\" 200 -\n",
      "127.0.0.1 - - [08/Dec/2022 20:10:28] \"POST /summarize HTTP/1.1\" 200 -\n"
     ]
    },
    {
     "name": "stdout",
     "output_type": "stream",
     "text": [
      "Article `download()` failed with No connection adapters were found for '://' on URL ://\n"
     ]
    }
   ],
   "source": [
    "if __name__ == \"__main__\":\n",
    "    app.run(port=8080)"
   ]
  }
 ],
 "metadata": {
  "kernelspec": {
   "display_name": "Python 3 (ipykernel)",
   "language": "python",
   "name": "python3"
  },
  "language_info": {
   "codemirror_mode": {
    "name": "ipython",
    "version": 3
   },
   "file_extension": ".py",
   "mimetype": "text/x-python",
   "name": "python",
   "nbconvert_exporter": "python",
   "pygments_lexer": "ipython3",
   "version": "3.9.12"
  }
 },
 "nbformat": 4,
 "nbformat_minor": 5
}
